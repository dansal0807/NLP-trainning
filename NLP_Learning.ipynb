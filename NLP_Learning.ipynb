{
  "nbformat": 4,
  "nbformat_minor": 0,
  "metadata": {
    "colab": {
      "name": "NLP Learning.ipynb",
      "provenance": [],
      "toc_visible": true
    },
    "kernelspec": {
      "name": "python3",
      "display_name": "Python 3"
    },
    "language_info": {
      "name": "python"
    }
  },
  "cells": [
    {
      "cell_type": "markdown",
      "metadata": {
        "id": "q0Ztq8lYmNyW"
      },
      "source": [
        "\n",
        "\n",
        "# TextBlob"
      ]
    },
    {
      "cell_type": "code",
      "metadata": {
        "colab": {
          "base_uri": "https://localhost:8080/"
        },
        "id": "T_jUJIwFmA2j",
        "outputId": "1dbba8a2-c84d-4143-bc1c-dc050722c3e0"
      },
      "source": [
        "!pip install textblob"
      ],
      "execution_count": 2,
      "outputs": [
        {
          "output_type": "stream",
          "name": "stdout",
          "text": [
            "Requirement already satisfied: textblob in /usr/local/lib/python3.7/dist-packages (0.15.3)\n",
            "Requirement already satisfied: nltk>=3.1 in /usr/local/lib/python3.7/dist-packages (from textblob) (3.2.5)\n",
            "Requirement already satisfied: six in /usr/local/lib/python3.7/dist-packages (from nltk>=3.1->textblob) (1.15.0)\n"
          ]
        }
      ]
    },
    {
      "cell_type": "code",
      "metadata": {
        "id": "F6S22LoxmUaq"
      },
      "source": [
        "from textblob import TextBlob\n"
      ],
      "execution_count": 3,
      "outputs": []
    },
    {
      "cell_type": "code",
      "metadata": {
        "id": "XNvrsPZgmVDz"
      },
      "source": [
        "b = TextBlob(\"I havv bad Speelling\")"
      ],
      "execution_count": 5,
      "outputs": []
    },
    {
      "cell_type": "code",
      "metadata": {
        "colab": {
          "base_uri": "https://localhost:8080/"
        },
        "id": "qCeexifimVGJ",
        "outputId": "3a3cedf8-9a41-4406-efe7-b6bb35dbf13f"
      },
      "source": [
        "b.correct()"
      ],
      "execution_count": 6,
      "outputs": [
        {
          "output_type": "execute_result",
          "data": {
            "text/plain": [
              "TextBlob(\"I have bad Spelling\")"
            ]
          },
          "metadata": {},
          "execution_count": 6
        }
      ]
    },
    {
      "cell_type": "code",
      "metadata": {
        "colab": {
          "base_uri": "https://localhost:8080/"
        },
        "id": "kb0LQaKS8gsH",
        "outputId": "a057c082-cd7e-43dd-f88f-b77735aa424c"
      },
      "source": [
        "file = open(\"spelling-try.txt\", \"r\")\n",
        "file_read = file.read()\n",
        "file.close()\n",
        "print(file_read)"
      ],
      "execution_count": 61,
      "outputs": [
        {
          "output_type": "stream",
          "name": "stdout",
          "text": [
            "What is Philosophy?d\n",
            "Quite literally, the term \"philosohy\" means, \"lovv of wisdom.\" In a broadd sense, philosodephy is an actievity people undertaake when they seeek to undenrstand fundamental truths about themselves, the world in which they live, and their relationships to the world and to each other. As an academic discipline philosophy is much the same. Those who study philosophy are perpetually engaged in asking, answering, and arguing for their answers to life's most basic questions. To make such a pursuit more systematic academic philosophy is traditionally divided into major areas of study.\n",
            "\n",
            " \n"
          ]
        }
      ]
    },
    {
      "cell_type": "code",
      "metadata": {
        "colab": {
          "base_uri": "https://localhost:8080/"
        },
        "id": "QRheoROA87bg",
        "outputId": "7a4460c2-4e27-4d2c-c646-72d913a303e9"
      },
      "source": [
        "spelling_check = TextBlob(file_read)\n",
        "corrected = spelling_check.correct()\n",
        "print(corrected)"
      ],
      "execution_count": 62,
      "outputs": [
        {
          "output_type": "stream",
          "name": "stdout",
          "text": [
            "That is Philosophy?d\n",
            "Quite literally, the term \"philosophy\" means, \"love of wisdom.\" In a broad sense, philosophy is an activity people undertake when they seek to understand fundamental truths about themselves, the world in which they live, and their relationships to the world and to each other. Is an academic discipline philosophy is much the same. Those who study philosophy are perpetually engaged in asking, answering, and arguing for their answers to life's most basic questions. To make such a pursuit more systematic academic philosophy is traditionally divided into major areas of study.\n",
            "\n",
            " \n"
          ]
        }
      ]
    },
    {
      "cell_type": "code",
      "metadata": {
        "id": "rZU3q9f7-6rb"
      },
      "source": [
        "file = open(\"spelling-try.txt\", 'a')\n",
        "file.write(\"\\nA diferença ortográfica: \\n\\n\")\n",
        "file.write(str(corrected))\n",
        "file.close()\n",
        "\n"
      ],
      "execution_count": 63,
      "outputs": []
    },
    {
      "cell_type": "code",
      "metadata": {
        "colab": {
          "base_uri": "https://localhost:8080/"
        },
        "id": "lnxZ_eMK_V5X",
        "outputId": "ca75b036-1497-4abf-8150-89f99dd72930"
      },
      "source": [
        "file = open(\"spelling-try.txt\", 'r')\n",
        "print(file.read())\n"
      ],
      "execution_count": 64,
      "outputs": [
        {
          "output_type": "stream",
          "name": "stdout",
          "text": [
            "What is Philosophy?d\n",
            "Quite literally, the term \"philosohy\" means, \"lovv of wisdom.\" In a broadd sense, philosodephy is an actievity people undertaake when they seeek to undenrstand fundamental truths about themselves, the world in which they live, and their relationships to the world and to each other. As an academic discipline philosophy is much the same. Those who study philosophy are perpetually engaged in asking, answering, and arguing for their answers to life's most basic questions. To make such a pursuit more systematic academic philosophy is traditionally divided into major areas of study.\n",
            "\n",
            " \n",
            "A diferença ortográfica: \n",
            "\n",
            "That is Philosophy?d\n",
            "Quite literally, the term \"philosophy\" means, \"love of wisdom.\" In a broad sense, philosophy is an activity people undertake when they seek to understand fundamental truths about themselves, the world in which they live, and their relationships to the world and to each other. Is an academic discipline philosophy is much the same. Those who study philosophy are perpetually engaged in asking, answering, and arguing for their answers to life's most basic questions. To make such a pursuit more systematic academic philosophy is traditionally divided into major areas of study.\n",
            "\n",
            " \n"
          ]
        }
      ]
    },
    {
      "cell_type": "markdown",
      "metadata": {
        "id": "ttmRK1Eb_sf1"
      },
      "source": [
        "# Observamos que o TextBlob tem suas limitações. Por exemplo, ao transformar \"What\" em \"that\" e não tirar o 'd' após a interrogação. "
      ]
    },
    {
      "cell_type": "markdown",
      "metadata": {
        "id": "qDPOW5aEACKn"
      },
      "source": [
        "# Sentiment Analysis using TextBlob"
      ]
    },
    {
      "cell_type": "markdown",
      "metadata": {
        "id": "5403nNQdAIFK"
      },
      "source": [
        "TextBlob returns polarity and subjectivity of a sentence. Polarity lies between [-1,1], -1 defines a negative sentiment and 1 defines a positive sentiment. Negation words reverse the polarity. TextBlob has semantic labels that help with fine-grained analysis. For example — emoticons, exclamation mark, emojis, etc. **Subjectivity lies between [0,1]. Subjectivity quantifies the amount of personal opinion and factual information contained in the text.** The higher subjectivity means that **the text contains personal opinion rather than factual information**. TextBlob has one more parameter — **intensity**. TextBlob calculates subjectivity by looking at the ‘intensity’.** Intensity determines if a word modifies the next word. For English, adverbs are used as modifiers (‘very good’)**."
      ]
    },
    {
      "cell_type": "code",
      "metadata": {
        "id": "7IfBIgCH_-cK"
      },
      "source": [
        "#This example works specially for Twitter sentiment analysis\n",
        "def getSubjectivity(text):\n",
        "  return TextBlob(text).sentiment.subjectivity\n",
        "  \n",
        " #Create a function to get the polarity\n",
        "def getPolarity(text):\n",
        "  return TextBlob(text).sentiment.polarity\n",
        "\n",
        "def getAnalysis(score):\n",
        "  if score < 0:\n",
        "    return \"Negative\"\n",
        "  elif score == 0:\n",
        "    return \"Neutral\"\n",
        "  else:\n",
        "    return \"Positive\"\n"
      ],
      "execution_count": 69,
      "outputs": []
    },
    {
      "cell_type": "markdown",
      "metadata": {
        "id": "2-mFk-EXCN28"
      },
      "source": [
        "# Inserindo a API do twitter"
      ]
    },
    {
      "cell_type": "code",
      "metadata": {
        "colab": {
          "base_uri": "https://localhost:8080/"
        },
        "id": "rsLoII9aBVgT",
        "outputId": "b7e1a422-f9d0-4d83-97d0-ec825661f6d3"
      },
      "source": [
        "!pip install tweepy\n",
        "!python -m textblob.download_corpora"
      ],
      "execution_count": 72,
      "outputs": [
        {
          "output_type": "stream",
          "name": "stdout",
          "text": [
            "Requirement already satisfied: tweepy in /usr/local/lib/python3.7/dist-packages (3.10.0)\n",
            "Requirement already satisfied: six>=1.10.0 in /usr/local/lib/python3.7/dist-packages (from tweepy) (1.15.0)\n",
            "Requirement already satisfied: requests[socks]>=2.11.1 in /usr/local/lib/python3.7/dist-packages (from tweepy) (2.23.0)\n",
            "Requirement already satisfied: requests-oauthlib>=0.7.0 in /usr/local/lib/python3.7/dist-packages (from tweepy) (1.3.0)\n",
            "Requirement already satisfied: oauthlib>=3.0.0 in /usr/local/lib/python3.7/dist-packages (from requests-oauthlib>=0.7.0->tweepy) (3.1.1)\n",
            "Requirement already satisfied: chardet<4,>=3.0.2 in /usr/local/lib/python3.7/dist-packages (from requests[socks]>=2.11.1->tweepy) (3.0.4)\n",
            "Requirement already satisfied: certifi>=2017.4.17 in /usr/local/lib/python3.7/dist-packages (from requests[socks]>=2.11.1->tweepy) (2021.10.8)\n",
            "Requirement already satisfied: idna<3,>=2.5 in /usr/local/lib/python3.7/dist-packages (from requests[socks]>=2.11.1->tweepy) (2.10)\n",
            "Requirement already satisfied: urllib3!=1.25.0,!=1.25.1,<1.26,>=1.21.1 in /usr/local/lib/python3.7/dist-packages (from requests[socks]>=2.11.1->tweepy) (1.24.3)\n",
            "Requirement already satisfied: PySocks!=1.5.7,>=1.5.6 in /usr/local/lib/python3.7/dist-packages (from requests[socks]>=2.11.1->tweepy) (1.7.1)\n",
            "[nltk_data] Downloading package brown to /root/nltk_data...\n",
            "[nltk_data]   Unzipping corpora/brown.zip.\n",
            "[nltk_data] Downloading package punkt to /root/nltk_data...\n",
            "[nltk_data]   Unzipping tokenizers/punkt.zip.\n",
            "[nltk_data] Downloading package wordnet to /root/nltk_data...\n",
            "[nltk_data]   Unzipping corpora/wordnet.zip.\n",
            "[nltk_data] Downloading package averaged_perceptron_tagger to\n",
            "[nltk_data]     /root/nltk_data...\n",
            "[nltk_data]   Unzipping taggers/averaged_perceptron_tagger.zip.\n",
            "[nltk_data] Downloading package conll2000 to /root/nltk_data...\n",
            "[nltk_data]   Unzipping corpora/conll2000.zip.\n",
            "[nltk_data] Downloading package movie_reviews to /root/nltk_data...\n",
            "[nltk_data]   Unzipping corpora/movie_reviews.zip.\n",
            "Finished.\n"
          ]
        }
      ]
    },
    {
      "cell_type": "markdown",
      "metadata": {
        "id": "Mkeqc2nYIV9C"
      },
      "source": [
        "Código exposto em GeeksForGeeks:"
      ]
    },
    {
      "cell_type": "code",
      "metadata": {
        "id": "OBgIstsnIUTp"
      },
      "source": [
        "import re\n",
        "import tweepy\n",
        "from tweepy import OAuthHandler\n",
        "from textblob import TextBlob\n",
        "  \n",
        "class TwitterClient(object):\n",
        "    '''\n",
        "    Generic Twitter Class for sentiment analysis.\n",
        "    '''\n",
        "    def __init__(self):\n",
        "        '''\n",
        "        Class constructor or initialization method.\n",
        "        '''\n",
        "        # keys and tokens from the Twitter Dev Console\n",
        "        consumer_key = 'XXXXXXXXXXXXXXXXXXXXXXXX'\n",
        "        consumer_secret = 'XXXXXXXXXXXXXXXXXXXXXXXXXXXX'\n",
        "        access_token = 'XXXXXXXXXXXXXXXXXXXXXXXXXXXX'\n",
        "        access_token_secret = 'XXXXXXXXXXXXXXXXXXXXXXXXX'\n",
        "  \n",
        "        # attempt authentication\n",
        "        try:\n",
        "            # create OAuthHandler object\n",
        "            self.auth = OAuthHandler(consumer_key, consumer_secret)\n",
        "            # set access token and secret\n",
        "            self.auth.set_access_token(access_token, access_token_secret)\n",
        "            # create tweepy API object to fetch tweets\n",
        "            self.api = tweepy.API(self.auth)\n",
        "        except:\n",
        "            print(\"Error: Authentication Failed\")\n",
        "  \n",
        "    def clean_tweet(self, tweet):\n",
        "        '''\n",
        "        Utility function to clean tweet text by removing links, special characters\n",
        "        using simple regex statements.\n",
        "        '''\n",
        "        return ' '.join(re.sub(\"(@[A-Za-z0-9]+)|([^0-9A-Za-z \\t])\n",
        "                                    |(\\w+:\\/\\/\\S+)\", \" \", tweet).split())\n",
        "  \n",
        "    def get_tweet_sentiment(self, tweet):\n",
        "        '''\n",
        "        Utility function to classify sentiment of passed tweet\n",
        "        using textblob's sentiment method\n",
        "        '''\n",
        "        # create TextBlob object of passed tweet text\n",
        "        analysis = TextBlob(self.clean_tweet(tweet))\n",
        "        # set sentiment\n",
        "        if analysis.sentiment.polarity > 0:\n",
        "            return 'positive'\n",
        "        elif analysis.sentiment.polarity == 0:\n",
        "            return 'neutral'\n",
        "        else:\n",
        "            return 'negative'\n",
        "  \n",
        "    def get_tweets(self, query, count = 10):\n",
        "        '''\n",
        "        Main function to fetch tweets and parse them.\n",
        "        '''\n",
        "        # empty list to store parsed tweets\n",
        "        tweets = []\n",
        "  \n",
        "        try:\n",
        "            # call twitter api to fetch tweets\n",
        "            fetched_tweets = self.api.search(q = query, count = count)\n",
        "  \n",
        "            # parsing tweets one by one\n",
        "            for tweet in fetched_tweets:\n",
        "                # empty dictionary to store required params of a tweet\n",
        "                parsed_tweet = {}\n",
        "  \n",
        "                # saving text of tweet\n",
        "                parsed_tweet['text'] = tweet.text\n",
        "                # saving sentiment of tweet\n",
        "                parsed_tweet['sentiment'] = self.get_tweet_sentiment(tweet.text)\n",
        "  \n",
        "                # appending parsed tweet to tweets list\n",
        "                if tweet.retweet_count > 0:\n",
        "                    # if tweet has retweets, ensure that it is appended only once\n",
        "                    if parsed_tweet not in tweets:\n",
        "                        tweets.append(parsed_tweet)\n",
        "                else:\n",
        "                    tweets.append(parsed_tweet)\n",
        "  \n",
        "            # return parsed tweets\n",
        "            return tweets\n",
        "  \n",
        "        except tweepy.TweepError as e:\n",
        "            # print error (if any)\n",
        "            print(\"Error : \" + str(e))\n",
        "  \n",
        "def main():\n",
        "    # creating object of TwitterClient Class\n",
        "    api = TwitterClient()\n",
        "    # calling function to get tweets\n",
        "    tweets = api.get_tweets(query = 'Donald Trump', count = 200)\n",
        "  \n",
        "    # picking positive tweets from tweets\n",
        "    ptweets = [tweet for tweet in tweets if tweet['sentiment'] == 'positive']\n",
        "    # percentage of positive tweets\n",
        "    print(\"Positive tweets percentage: {} %\".format(100*len(ptweets)/len(tweets)))\n",
        "    # picking negative tweets from tweets\n",
        "    ntweets = [tweet for tweet in tweets if tweet['sentiment'] == 'negative']\n",
        "    # percentage of negative tweets\n",
        "    print(\"Negative tweets percentage: {} %\".format(100*len(ntweets)/len(tweets)))\n",
        "    # percentage of neutral tweets\n",
        "    print(\"Neutral tweets percentage: {} % \\\n",
        "        \".format(100*(len(tweets) -(len( ntweets )+len( ptweets)))/len(tweets)))\n",
        "  \n",
        "    # printing first 5 positive tweets\n",
        "    print(\"\\n\\nPositive tweets:\")\n",
        "    for tweet in ptweets[:10]:\n",
        "        print(tweet['text'])\n",
        "  \n",
        "    # printing first 5 negative tweets\n",
        "    print(\"\\n\\nNegative tweets:\")\n",
        "    for tweet in ntweets[:10]:\n",
        "        print(tweet['text'])\n",
        "  \n",
        "if __name__ == \"__main__\":\n",
        "    # calling main function\n",
        "    main()"
      ],
      "execution_count": null,
      "outputs": []
    }
  ]
}